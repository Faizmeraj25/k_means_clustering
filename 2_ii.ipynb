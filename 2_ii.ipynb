{
  "nbformat": 4,
  "nbformat_minor": 0,
  "metadata": {
    "colab": {
      "provenance": []
    },
    "kernelspec": {
      "name": "python3",
      "display_name": "Python 3"
    },
    "language_info": {
      "name": "python"
    }
  },
  "cells": [
    {
      "cell_type": "code",
      "execution_count": null,
      "metadata": {
        "colab": {
          "base_uri": "https://localhost:8080/",
          "height": 441
        },
        "id": "h7ZY2kpWHOXL",
        "outputId": "4d2fa82c-b718-4c36-9cfa-db809fc0aa0f"
      },
      "outputs": [
        {
          "output_type": "stream",
          "name": "stdout",
          "text": [
            "Mounted at /content/drive\n"
          ]
        },
        {
          "output_type": "execute_result",
          "data": {
            "text/plain": [
              "           A        B\n",
              "0    0.14300  0.98493\n",
              "1   -0.30467  0.98562\n",
              "2    0.46625 -0.84003\n",
              "3    0.94847  0.37222\n",
              "4   -0.96871 -0.26697\n",
              "..       ...      ...\n",
              "995  4.48210 -7.40030\n",
              "996 -3.49630  8.63860\n",
              "997  6.10620 -5.98640\n",
              "998 -7.40940 -5.52050\n",
              "999 -0.12948 -8.80360\n",
              "\n",
              "[1000 rows x 2 columns]"
            ],
            "text/html": [
              "\n",
              "  <div id=\"df-12f7dbd0-7360-4dde-b5f2-b47c8e10dc24\">\n",
              "    <div class=\"colab-df-container\">\n",
              "      <div>\n",
              "<style scoped>\n",
              "    .dataframe tbody tr th:only-of-type {\n",
              "        vertical-align: middle;\n",
              "    }\n",
              "\n",
              "    .dataframe tbody tr th {\n",
              "        vertical-align: top;\n",
              "    }\n",
              "\n",
              "    .dataframe thead th {\n",
              "        text-align: right;\n",
              "    }\n",
              "</style>\n",
              "<table border=\"1\" class=\"dataframe\">\n",
              "  <thead>\n",
              "    <tr style=\"text-align: right;\">\n",
              "      <th></th>\n",
              "      <th>A</th>\n",
              "      <th>B</th>\n",
              "    </tr>\n",
              "  </thead>\n",
              "  <tbody>\n",
              "    <tr>\n",
              "      <th>0</th>\n",
              "      <td>0.14300</td>\n",
              "      <td>0.98493</td>\n",
              "    </tr>\n",
              "    <tr>\n",
              "      <th>1</th>\n",
              "      <td>-0.30467</td>\n",
              "      <td>0.98562</td>\n",
              "    </tr>\n",
              "    <tr>\n",
              "      <th>2</th>\n",
              "      <td>0.46625</td>\n",
              "      <td>-0.84003</td>\n",
              "    </tr>\n",
              "    <tr>\n",
              "      <th>3</th>\n",
              "      <td>0.94847</td>\n",
              "      <td>0.37222</td>\n",
              "    </tr>\n",
              "    <tr>\n",
              "      <th>4</th>\n",
              "      <td>-0.96871</td>\n",
              "      <td>-0.26697</td>\n",
              "    </tr>\n",
              "    <tr>\n",
              "      <th>...</th>\n",
              "      <td>...</td>\n",
              "      <td>...</td>\n",
              "    </tr>\n",
              "    <tr>\n",
              "      <th>995</th>\n",
              "      <td>4.48210</td>\n",
              "      <td>-7.40030</td>\n",
              "    </tr>\n",
              "    <tr>\n",
              "      <th>996</th>\n",
              "      <td>-3.49630</td>\n",
              "      <td>8.63860</td>\n",
              "    </tr>\n",
              "    <tr>\n",
              "      <th>997</th>\n",
              "      <td>6.10620</td>\n",
              "      <td>-5.98640</td>\n",
              "    </tr>\n",
              "    <tr>\n",
              "      <th>998</th>\n",
              "      <td>-7.40940</td>\n",
              "      <td>-5.52050</td>\n",
              "    </tr>\n",
              "    <tr>\n",
              "      <th>999</th>\n",
              "      <td>-0.12948</td>\n",
              "      <td>-8.80360</td>\n",
              "    </tr>\n",
              "  </tbody>\n",
              "</table>\n",
              "<p>1000 rows × 2 columns</p>\n",
              "</div>\n",
              "      <button class=\"colab-df-convert\" onclick=\"convertToInteractive('df-12f7dbd0-7360-4dde-b5f2-b47c8e10dc24')\"\n",
              "              title=\"Convert this dataframe to an interactive table.\"\n",
              "              style=\"display:none;\">\n",
              "        \n",
              "  <svg xmlns=\"http://www.w3.org/2000/svg\" height=\"24px\"viewBox=\"0 0 24 24\"\n",
              "       width=\"24px\">\n",
              "    <path d=\"M0 0h24v24H0V0z\" fill=\"none\"/>\n",
              "    <path d=\"M18.56 5.44l.94 2.06.94-2.06 2.06-.94-2.06-.94-.94-2.06-.94 2.06-2.06.94zm-11 1L8.5 8.5l.94-2.06 2.06-.94-2.06-.94L8.5 2.5l-.94 2.06-2.06.94zm10 10l.94 2.06.94-2.06 2.06-.94-2.06-.94-.94-2.06-.94 2.06-2.06.94z\"/><path d=\"M17.41 7.96l-1.37-1.37c-.4-.4-.92-.59-1.43-.59-.52 0-1.04.2-1.43.59L10.3 9.45l-7.72 7.72c-.78.78-.78 2.05 0 2.83L4 21.41c.39.39.9.59 1.41.59.51 0 1.02-.2 1.41-.59l7.78-7.78 2.81-2.81c.8-.78.8-2.07 0-2.86zM5.41 20L4 18.59l7.72-7.72 1.47 1.35L5.41 20z\"/>\n",
              "  </svg>\n",
              "      </button>\n",
              "      \n",
              "  <style>\n",
              "    .colab-df-container {\n",
              "      display:flex;\n",
              "      flex-wrap:wrap;\n",
              "      gap: 12px;\n",
              "    }\n",
              "\n",
              "    .colab-df-convert {\n",
              "      background-color: #E8F0FE;\n",
              "      border: none;\n",
              "      border-radius: 50%;\n",
              "      cursor: pointer;\n",
              "      display: none;\n",
              "      fill: #1967D2;\n",
              "      height: 32px;\n",
              "      padding: 0 0 0 0;\n",
              "      width: 32px;\n",
              "    }\n",
              "\n",
              "    .colab-df-convert:hover {\n",
              "      background-color: #E2EBFA;\n",
              "      box-shadow: 0px 1px 2px rgba(60, 64, 67, 0.3), 0px 1px 3px 1px rgba(60, 64, 67, 0.15);\n",
              "      fill: #174EA6;\n",
              "    }\n",
              "\n",
              "    [theme=dark] .colab-df-convert {\n",
              "      background-color: #3B4455;\n",
              "      fill: #D2E3FC;\n",
              "    }\n",
              "\n",
              "    [theme=dark] .colab-df-convert:hover {\n",
              "      background-color: #434B5C;\n",
              "      box-shadow: 0px 1px 3px 1px rgba(0, 0, 0, 0.15);\n",
              "      filter: drop-shadow(0px 1px 2px rgba(0, 0, 0, 0.3));\n",
              "      fill: #FFFFFF;\n",
              "    }\n",
              "  </style>\n",
              "\n",
              "      <script>\n",
              "        const buttonEl =\n",
              "          document.querySelector('#df-12f7dbd0-7360-4dde-b5f2-b47c8e10dc24 button.colab-df-convert');\n",
              "        buttonEl.style.display =\n",
              "          google.colab.kernel.accessAllowed ? 'block' : 'none';\n",
              "\n",
              "        async function convertToInteractive(key) {\n",
              "          const element = document.querySelector('#df-12f7dbd0-7360-4dde-b5f2-b47c8e10dc24');\n",
              "          const dataTable =\n",
              "            await google.colab.kernel.invokeFunction('convertToInteractive',\n",
              "                                                     [key], {});\n",
              "          if (!dataTable) return;\n",
              "\n",
              "          const docLinkHtml = 'Like what you see? Visit the ' +\n",
              "            '<a target=\"_blank\" href=https://colab.research.google.com/notebooks/data_table.ipynb>data table notebook</a>'\n",
              "            + ' to learn more about interactive tables.';\n",
              "          element.innerHTML = '';\n",
              "          dataTable['output_type'] = 'display_data';\n",
              "          await google.colab.output.renderOutput(dataTable, element);\n",
              "          const docLink = document.createElement('div');\n",
              "          docLink.innerHTML = docLinkHtml;\n",
              "          element.appendChild(docLink);\n",
              "        }\n",
              "      </script>\n",
              "    </div>\n",
              "  </div>\n",
              "  "
            ]
          },
          "metadata": {},
          "execution_count": 2
        }
      ],
      "source": [
        "import pandas as pd\n",
        "import numpy as np\n",
        "\n",
        "#Connecting to the Google Drive.\n",
        "from google.colab import drive\n",
        "drive.mount('/content/drive')\n",
        "\n",
        "#Reading the data.\n",
        "url = '/content/drive/MyDrive/Colab Notebooks/Dataset.csv'\n",
        "df=pd.read_csv(url)\n",
        "# df._get_value(0 , 'A')\n",
        "\n",
        "df"
      ]
    },
    {
      "cell_type": "code",
      "source": [
        "#Plotting the original Graph\n",
        "import matplotlib.pyplot as plt\n",
        "plt.scatter(df['A'], df['B'])"
      ],
      "metadata": {
        "colab": {
          "base_uri": "https://localhost:8080/",
          "height": 286
        },
        "id": "kKFWBouGO3Vj",
        "outputId": "c8a5fe53-7c4d-4a09-a321-a3daeb2e8612"
      },
      "execution_count": null,
      "outputs": [
        {
          "output_type": "execute_result",
          "data": {
            "text/plain": [
              "<matplotlib.collections.PathCollection at 0x7fea72db29d0>"
            ]
          },
          "metadata": {},
          "execution_count": 3
        },
        {
          "output_type": "display_data",
          "data": {
            "text/plain": [
              "<Figure size 432x288 with 1 Axes>"
            ],
            "image/png": "[encoded data removed]"
          },
          "metadata": {
            "needs_background": "light"
          }
        }
      ]
    },
    {
      "cell_type": "code",
      "source": [
        "#Initialization\n",
        "def Initialization(df,Z, k):\n",
        "  import random\n",
        "  centroid = []\n",
        "  # print(Z)\n",
        "  for i in range(k):\n",
        "    r = random.randint(0,999)\n",
        "    Z[r] = i+1\n",
        "    centroid.append(df.iloc[r])\n",
        "    # print(r)\n",
        "  return Z , centroid"
      ],
      "metadata": {
        "id": "xbW1PC3eO5n_"
      },
      "execution_count": null,
      "outputs": []
    },
    {
      "cell_type": "code",
      "source": [
        "def EuclideanDist (A , B):\n",
        "  return np.sqrt(np.sum((A - B)**2))"
      ],
      "metadata": {
        "id": "jUL3JqMiO7wk"
      },
      "execution_count": null,
      "outputs": []
    },
    {
      "cell_type": "code",
      "source": [
        "def CalculateMean(centroid ,Z ,k):\n",
        "    centroid = np.zeros((k,2))\n",
        "    Times = np.zeros(k)\n",
        "    for i in range(len(df)):\n",
        "      for j in range(k):\n",
        "        if Z[i] == (j+1):\n",
        "          centroid[j] = np.add(centroid[j], df.iloc[i])\n",
        "          Times[j] = Times[j] + 1\n",
        "    for j in range(k):\n",
        "      centroid[j] = np.multiply(centroid[j] , 1 / Times[j])\n",
        "    return centroid\n"
      ],
      "metadata": {
        "id": "O4p1vpQFO9tj"
      },
      "execution_count": null,
      "outputs": []
    },
    {
      "cell_type": "code",
      "source": [
        "def Reassignment(centroid , Z , k):\n",
        "  isReassign = False\n",
        "  for i in range(len(df)):\n",
        "    if Z[i] == 0 or Z[i] > k:\n",
        "      dist = float(np.Inf)\n",
        "    else:\n",
        "      dist = EuclideanDist(centroid[(int(Z[i]) - 1)], df.iloc[i])\n",
        "    for j in range(k):\n",
        "      ED  = EuclideanDist(centroid[j] , df.iloc[i])\n",
        "      if dist > ED:\n",
        "        isReassign = True\n",
        "        dist = ED\n",
        "        Z[i] = j+1\n",
        "  return Z ,isReassign"
      ],
      "metadata": {
        "id": "7BMegj06O__7"
      },
      "execution_count": null,
      "outputs": []
    },
    {
      "cell_type": "code",
      "source": [
        "def PlotGraph(k,df,Z):\n",
        "  colour = ['Red', 'Green' , 'Cyan' , 'Black' , 'Blue']\n",
        "  import matplotlib.pyplot as plt\n",
        "  # print(colour)\n",
        "  Plot =  []\n",
        "  for i in range(0,k):\n",
        "    Plot1 = []\n",
        "    for j in range(len(df)):\n",
        "      if Z[j] == i+1:\n",
        "        Plot1.append(df.iloc[j])\n",
        "    Plot1 = pd.DataFrame(Plot1)\n",
        "    # print(Plot1)\n",
        "    plt.title('K Means Clustering')\n",
        "    plt.xlabel('Dimension 1')\n",
        "    plt.ylabel('Dimension 2')\n",
        "    plt.scatter(Plot1['A'] , Plot1['B'],color=colour[i])"
      ],
      "metadata": {
        "id": "95RZrDCcPEUw"
      },
      "execution_count": null,
      "outputs": []
    },
    {
      "cell_type": "code",
      "source": [
        "def ComputeError(Z , centroid, k):\n",
        "  sum = 0\n",
        "  for i in range(len(df)):\n",
        "    for j in range(0,k):\n",
        "      if Z[i] == j+1:\n",
        "        sum = sum + EuclideanDist(df.iloc[i], centroid[j])\n",
        "  return sum"
      ],
      "metadata": {
        "id": "rlfWsIf8PGeg"
      },
      "execution_count": null,
      "outputs": []
    },
    {
      "cell_type": "code",
      "source": [
        "def PlotError(ErrorSum):\n",
        "  Iter = []\n",
        "  for i in range(len(ErrorSum)):\n",
        "    Iter.append(i)\n",
        "  plt.scatter(Iter,ErrorSum)\n",
        "  plt.title('Error v/s Iteration')\n",
        "  plt.xlabel('Error')\n",
        "  plt.ylabel('No of Iterations')\n",
        "  plt.show()"
      ],
      "metadata": {
        "id": "FF2fHbEvPJb8"
      },
      "execution_count": null,
      "outputs": []
    },
    {
      "cell_type": "code",
      "source": [
        "def CalculateIndicator(centroid, ind):\n",
        "  Z = np.zeros(len(df))\n",
        "  for i in range(len(df)):\n",
        "    for j in range(ind):\n",
        "      if df.iloc[i][0] == centroid[j][0] and df.iloc[i][1] == centroid[j][1]:\n",
        "        Z[i] = j+1\n",
        "\n",
        "  return Z"
      ],
      "metadata": {
        "id": "z5Bs5xZkTNrk"
      },
      "execution_count": null,
      "outputs": []
    },
    {
      "cell_type": "code",
      "source": [
        "def Voronoi(Z, centroid, k):\n",
        "  print(df.iloc[0][0])\n",
        "  print(centroid[0])\n",
        "  colour = ['Red', 'Green' , 'Cyan' , 'Black' , 'Blue']\n",
        "  x = []\n",
        "  y = []\n",
        "  c = []\n",
        "  i = -10\n",
        "  while i < 8:\n",
        "    j = -8\n",
        "    while j < 11:\n",
        "      dis = []\n",
        "      for il in  range(k):\n",
        "        arr = [i,j]\n",
        "        dist = EuclideanDist(arr, centroid[il])\n",
        "        dis.append(dis)\n",
        "      ind = np.argmin(dis)\n",
        "      x.append(i)\n",
        "      y.append(j)\n",
        "      c.append(ind)\n",
        "      j = j + 0.05\n",
        "    i = i + 0.05\n",
        "  v=pd.DataFrame(list(zip(x,y,c)),columns=['X','Y','Z'])\n",
        "  plt.scatter(v['X'][(v.Z==0)],v['Y'][v.Z==0],marker='o',color='r',label='Region1')\n",
        "  plt.scatter(v['X'][(v.Z==1)],v['Y'][v.Z==1],marker='o',color='g',label='Region2')\n",
        "  plt.scatter(v['X'][(v.Z==2)],v['Y'][v.Z==2],marker='o',color='b',label='Region3')\n",
        "  plt.scatter(v['X'][(v.Z==3)],v['Y'][v.Z==3],marker='o',color='coral',label='Region4')\n",
        "  plt.scatter(v['X'][(v.Z==4)],v['Y'][v.Z==4],marker='o',color='cyan',label='Region5')\n",
        "  plt.legend(bbox_to_anchor=(1.05,0.6))"
      ],
      "metadata": {
        "id": "KVuvkBvUeJvY"
      },
      "execution_count": null,
      "outputs": []
    },
    {
      "cell_type": "code",
      "source": [
        "def FixedInitCluster(Z, centroid , k):\n",
        "  ErrorSum = []\n",
        "  centroid=CalculateMean(centroid, Z , k)\n",
        "  Z,reassign=Reassignment(centroid,Z,k)\n",
        "  ErrorSum.append(ComputeError(Z, centroid , k))\n",
        "  centroid=CalculateMean(centroid, Z , k)\n",
        "  while reassign:\n",
        "    Z , reassign = Reassignment(centroid, Z, k)\n",
        "    ErrorSum.append(ComputeError(Z, centroid , k))\n",
        "    centroid=CalculateMean(centroid, Z , k)\n",
        "  PlotError(ErrorSum)\n",
        "  Voronoi(Z, centroid, k)\n",
        "  PlotGraph(k,df, Z)"
      ],
      "metadata": {
        "id": "YQfVVr40PLp3"
      },
      "execution_count": null,
      "outputs": []
    },
    {
      "cell_type": "code",
      "source": [
        "k = 4\n",
        "ErrorSum = []\n",
        "Z = np.zeros(len(df))\n",
        "centroid = np.zeros(k)\n",
        "centroid=CalculateMean(centroid, Z , k)\n",
        "Z,reassign=Reassignment(centroid,Z,k)\n",
        "ErrorSum.append(ComputeError(Z, centroid , k))\n",
        "centroid=CalculateMean(centroid, Z , k)\n",
        "itera = 0\n",
        "while reassign and itera < 12:\n",
        "  Z , reassign = Reassignment(centroid, Z, k)\n",
        "  ErrorSum.append(ComputeError(Z, centroid , k))\n",
        "  centroid=CalculateMean(centroid, Z , k)\n",
        "  itera = itera + 1\n",
        "PlotError(ErrorSum)\n",
        "Voronoi(Z, centroid, k)\n",
        "PlotGraph(k,df, Z)"
      ],
      "metadata": {
        "colab": {
          "base_uri": "https://localhost:8080/"
        },
        "id": "-sWn_v2Vf__u",
        "outputId": "5f127aff-bfe5-40e0-c82d-724de8f2c456"
      },
      "execution_count": null,
      "outputs": [
        {
          "output_type": "stream",
          "name": "stderr",
          "text": [
            "/usr/local/lib/python3.7/dist-packages/ipykernel_launcher.py:10: RuntimeWarning: divide by zero encountered in double_scalars\n",
            "  # Remove the CWD from sys.path while we load stuff.\n",
            "/usr/local/lib/python3.7/dist-packages/ipykernel_launcher.py:10: RuntimeWarning: invalid value encountered in multiply\n",
            "  # Remove the CWD from sys.path while we load stuff.\n"
          ]
        }
      ]
    },
    {
      "cell_type": "code",
      "source": [
        "#Computing the fixed Initialization\n",
        "k = 5\n",
        "Fixedcentroid = np.zeros(k)\n",
        "Z = np.zeros(len(df))\n",
        "Z , Fixedcentroid = Initialization(df, Z, k)\n",
        "centroid = np.zeros(k)\n",
        "centroid = Fixedcentroid[:1]\n",
        "#Running it for K = {2, 3, 4, 5}\n",
        "for i in range(2, 6):\n",
        "  centroid.append(Fixedcentroid[i-1])\n",
        "  Z = CalculateIndicator(centroid, i)\n",
        "  FixedInitCluster(Z, centroid, i)\n",
        "  plt.show()"
      ],
      "metadata": {
        "id": "ubXRCmsBPS7v"
      },
      "execution_count": null,
      "outputs": []
    }
  ]
}