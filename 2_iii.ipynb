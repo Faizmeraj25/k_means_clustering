{
  "nbformat": 4,
  "nbformat_minor": 0,
  "metadata": {
    "colab": {
      "provenance": []
    },
    "kernelspec": {
      "name": "python3",
      "display_name": "Python 3"
    },
    "language_info": {
      "name": "python"
    }
  },
  "cells": [
    {
      "cell_type": "code",
      "source": [
        "import numpy as np"
      ],
      "metadata": {
        "id": "gE6vyNyBMNjF"
      },
      "execution_count": null,
      "outputs": []
    },
    {
      "cell_type": "code",
      "execution_count": null,
      "metadata": {
        "id": "lEQ5zSCI323i"
      },
      "outputs": [],
      "source": [
        "def PolyKernelMatrix(d):\n",
        "  kernel_mat = []\n",
        "  for i in range(len(df)):\n",
        "    ker = []\n",
        "    for j in range(len(df)):\n",
        "      val=0\n",
        "      for k  in range(df.shape[1]):\n",
        "        val = val+df.iloc[i][k] * df.iloc[j][k]\n",
        "        # print(df.iloc[i][k] * df.iloc[j][k]  + 1)\n",
        "      val=val+1\n",
        "      val=val**d\n",
        "      ker.append(val)\n",
        "        # print(x[i][k] , xt[k][j])\n",
        "      # print('mul ', mul)\n",
        "    kernel_mat.append(ker)\n",
        "  kernel = pd.DataFrame(kernel_mat)\n",
        "  return kernel"
      ]
    },
    {
      "cell_type": "code",
      "source": [
        "def Exponential_Kernel(sigma):\n",
        "  kernel_ex = []\n",
        "  for i in range(len(df)):\n",
        "    ex1 = []\n",
        "    for j in range(len(df)):\n",
        "      a, b = df.iloc[i], df.iloc[j]\n",
        "      # print(a,b)\n",
        "      X = np.subtract(a,b)\n",
        "      X_T = np.transpose(X)\n",
        "      # print(X.shape, X_T.shape)\n",
        "      num = np.dot(X,X_T)\n",
        "      den = 2 * sigma * sigma\n",
        "      ex1.append(num/den)\n",
        "    kernel_ex.append(ex1)\n",
        "  kernel_ex = np.array(kernel_ex)\n",
        "  kernel_ex = np.negative(kernel_ex)\n",
        "  kernel_ex = np.exp(kernel_ex)\n",
        "  return kernel_ex"
      ],
      "metadata": {
        "id": "O_FlLIiJQ7Z6"
      },
      "execution_count": null,
      "outputs": []
    },
    {
      "cell_type": "code",
      "source": [
        "## Computing the Identity Matrix.\n",
        "def IdentityMatrix(n):\n",
        "  I = []\n",
        "  for i in range(n):\n",
        "    I_n = []\n",
        "    for j in range(n):\n",
        "      if i == j:\n",
        "        I_n.append(1)\n",
        "      else:\n",
        "        I_n.append(0)\n",
        "    I.append(I_n)\n",
        "  return I\n",
        "## Computing the Indicator Matrix\n",
        "def IndicatorMatrix(n):\n",
        "  num  = 1 / len(df)\n",
        "  In = []\n",
        "  for i in range(len(df)):\n",
        "    In1 = []\n",
        "    for j in range(len(df)):\n",
        "      In1.append(num)\n",
        "    In.append(In1)\n",
        "  return In\n",
        "#Computing I1 = (I-In)\n",
        "def SubtractMatrix(I,n,In):\n",
        "  I1 = []\n",
        "  for i in range(n):\n",
        "    I11 = []\n",
        "    for j in range(n):\n",
        "      I11.append(I[i][j] - In[i][j])\n",
        "    I1.append(I11)\n",
        "  return I1\n"
      ],
      "metadata": {
        "id": "G0Jt_G0AQwNG"
      },
      "execution_count": null,
      "outputs": []
    },
    {
      "cell_type": "code",
      "source": [
        "def CenterKernel(kernel):\n",
        "  n = len(kernel)\n",
        "  I = IdentityMatrix(n)\n",
        "  In = IndicatorMatrix(n)\n",
        "  I1 = np.subtract(I, In)\n",
        "  I2 = np.matmul(I1,kernel)\n",
        "  I2 = np.matmul(I2,I1)\n",
        "  return I2"
      ],
      "metadata": {
        "id": "Atby-n7_LwNH"
      },
      "execution_count": null,
      "outputs": []
    },
    {
      "cell_type": "code",
      "source": [
        "#Sorting the Eigen vectors in decresing order of the corresponding Eigen Valules.\n",
        "def ComputeEigens(kernel_ex):\n",
        "  eigenvalues, eigenvectors = np.linalg.eig(kernel_ex)\n",
        "  idx = eigenvalues.argsort()[::-1]\n",
        "  eigenvalues = eigenvalues[idx]\n",
        "  # print(eigenvalues)\n",
        "  eigenvectors = eigenvectors[:,idx]\n",
        "  # print(eigenvectors)\n",
        "  import math\n",
        "  H = []\n",
        "  EV1 = eigenvectors[0]\n",
        "  EV2 = eigenvectors[1]\n",
        "  EV3 = eigenvectors[2]\n",
        "  EV4 = eigenvectors[3]\n",
        "  EV1 = EV1.tolist()\n",
        "  EV2 = EV2.tolist()\n",
        "  EV3 = EV3.tolist()\n",
        "  EV4 = EV4.tolist()\n",
        "\n",
        "  value1 = eigenvalues[0]\n",
        "  value2 = eigenvalues[1]\n",
        "  value3 = eigenvalues[2]\n",
        "  value4 = eigenvalues[3]\n",
        "\n",
        "\n",
        "  H.append(EV1)\n",
        "  H.append(EV2)\n",
        "  H.append(EV3)\n",
        "  H.append(EV4)\n",
        "  H = np.transpose(H)\n",
        "  norm = []\n",
        "  # Normalising the Eigen Vectors row-wise\n",
        "  for i in range(len(H)):\n",
        "    sum = 0\n",
        "    for j in range(4):\n",
        "      sum = sum + H[i][j]*H[i][j]\n",
        "    norm.append(sum)\n",
        "\n",
        "  norm = np.array(norm)\n",
        "  norm = np.sqrt(norm)\n",
        "  for i in range(len(H)):\n",
        "    sum = 0\n",
        "    for j in range(4):\n",
        "      H[i][j] = H[i][j] / norm[i]\n",
        "  return H\n"
      ],
      "metadata": {
        "id": "-bUw1E6M2nFf"
      },
      "execution_count": null,
      "outputs": []
    },
    {
      "cell_type": "code",
      "source": [
        "import pandas as pd\n",
        "import numpy as np\n",
        "\n",
        "#Connecting to the Google Drive.\n",
        "from google.colab import drive\n",
        "drive.mount('/content/drive')\n",
        "\n",
        "#Reading the data.\n",
        "url = '/content/drive/MyDrive/Colab Notebooks/Dataset.csv'\n",
        "df=pd.read_csv(url)\n",
        "# df._get_value(0 , 'A')\n",
        "\n",
        "df"
      ],
      "metadata": {
        "colab": {
          "base_uri": "https://localhost:8080/",
          "height": 441
        },
        "id": "4PiZ-U2S35oE",
        "outputId": "6494423e-1649-4185-c59f-9ab8d8930c28"
      },
      "execution_count": null,
      "outputs": [
        {
          "output_type": "stream",
          "name": "stdout",
          "text": [
            "Mounted at /content/drive\n"
          ]
        },
        {
          "output_type": "execute_result",
          "data": {
            "text/plain": [
              "           A        B\n",
              "0    0.14300  0.98493\n",
              "1   -0.30467  0.98562\n",
              "2    0.46625 -0.84003\n",
              "3    0.94847  0.37222\n",
              "4   -0.96871 -0.26697\n",
              "..       ...      ...\n",
              "995  4.48210 -7.40030\n",
              "996 -3.49630  8.63860\n",
              "997  6.10620 -5.98640\n",
              "998 -7.40940 -5.52050\n",
              "999 -0.12948 -8.80360\n",
              "\n",
              "[1000 rows x 2 columns]"
            ],
            "text/html": [
              "\n",
              "  <div id=\"df-ed4cbba4-27d1-4322-be22-d1cf43843c53\">\n",
              "    <div class=\"colab-df-container\">\n",
              "      <div>\n",
              "<style scoped>\n",
              "    .dataframe tbody tr th:only-of-type {\n",
              "        vertical-align: middle;\n",
              "    }\n",
              "\n",
              "    .dataframe tbody tr th {\n",
              "        vertical-align: top;\n",
              "    }\n",
              "\n",
              "    .dataframe thead th {\n",
              "        text-align: right;\n",
              "    }\n",
              "</style>\n",
              "<table border=\"1\" class=\"dataframe\">\n",
              "  <thead>\n",
              "    <tr style=\"text-align: right;\">\n",
              "      <th></th>\n",
              "      <th>A</th>\n",
              "      <th>B</th>\n",
              "    </tr>\n",
              "  </thead>\n",
              "  <tbody>\n",
              "    <tr>\n",
              "      <th>0</th>\n",
              "      <td>0.14300</td>\n",
              "      <td>0.98493</td>\n",
              "    </tr>\n",
              "    <tr>\n",
              "      <th>1</th>\n",
              "      <td>-0.30467</td>\n",
              "      <td>0.98562</td>\n",
              "    </tr>\n",
              "    <tr>\n",
              "      <th>2</th>\n",
              "      <td>0.46625</td>\n",
              "      <td>-0.84003</td>\n",
              "    </tr>\n",
              "    <tr>\n",
              "      <th>3</th>\n",
              "      <td>0.94847</td>\n",
              "      <td>0.37222</td>\n",
              "    </tr>\n",
              "    <tr>\n",
              "      <th>4</th>\n",
              "      <td>-0.96871</td>\n",
              "      <td>-0.26697</td>\n",
              "    </tr>\n",
              "    <tr>\n",
              "      <th>...</th>\n",
              "      <td>...</td>\n",
              "      <td>...</td>\n",
              "    </tr>\n",
              "    <tr>\n",
              "      <th>995</th>\n",
              "      <td>4.48210</td>\n",
              "      <td>-7.40030</td>\n",
              "    </tr>\n",
              "    <tr>\n",
              "      <th>996</th>\n",
              "      <td>-3.49630</td>\n",
              "      <td>8.63860</td>\n",
              "    </tr>\n",
              "    <tr>\n",
              "      <th>997</th>\n",
              "      <td>6.10620</td>\n",
              "      <td>-5.98640</td>\n",
              "    </tr>\n",
              "    <tr>\n",
              "      <th>998</th>\n",
              "      <td>-7.40940</td>\n",
              "      <td>-5.52050</td>\n",
              "    </tr>\n",
              "    <tr>\n",
              "      <th>999</th>\n",
              "      <td>-0.12948</td>\n",
              "      <td>-8.80360</td>\n",
              "    </tr>\n",
              "  </tbody>\n",
              "</table>\n",
              "<p>1000 rows × 2 columns</p>\n",
              "</div>\n",
              "      <button class=\"colab-df-convert\" onclick=\"convertToInteractive('df-ed4cbba4-27d1-4322-be22-d1cf43843c53')\"\n",
              "              title=\"Convert this dataframe to an interactive table.\"\n",
              "              style=\"display:none;\">\n",
              "        \n",
              "  <svg xmlns=\"http://www.w3.org/2000/svg\" height=\"24px\"viewBox=\"0 0 24 24\"\n",
              "       width=\"24px\">\n",
              "    <path d=\"M0 0h24v24H0V0z\" fill=\"none\"/>\n",
              "    <path d=\"M18.56 5.44l.94 2.06.94-2.06 2.06-.94-2.06-.94-.94-2.06-.94 2.06-2.06.94zm-11 1L8.5 8.5l.94-2.06 2.06-.94-2.06-.94L8.5 2.5l-.94 2.06-2.06.94zm10 10l.94 2.06.94-2.06 2.06-.94-2.06-.94-.94-2.06-.94 2.06-2.06.94z\"/><path d=\"M17.41 7.96l-1.37-1.37c-.4-.4-.92-.59-1.43-.59-.52 0-1.04.2-1.43.59L10.3 9.45l-7.72 7.72c-.78.78-.78 2.05 0 2.83L4 21.41c.39.39.9.59 1.41.59.51 0 1.02-.2 1.41-.59l7.78-7.78 2.81-2.81c.8-.78.8-2.07 0-2.86zM5.41 20L4 18.59l7.72-7.72 1.47 1.35L5.41 20z\"/>\n",
              "  </svg>\n",
              "      </button>\n",
              "      \n",
              "  <style>\n",
              "    .colab-df-container {\n",
              "      display:flex;\n",
              "      flex-wrap:wrap;\n",
              "      gap: 12px;\n",
              "    }\n",
              "\n",
              "    .colab-df-convert {\n",
              "      background-color: #E8F0FE;\n",
              "      border: none;\n",
              "      border-radius: 50%;\n",
              "      cursor: pointer;\n",
              "      display: none;\n",
              "      fill: #1967D2;\n",
              "      height: 32px;\n",
              "      padding: 0 0 0 0;\n",
              "      width: 32px;\n",
              "    }\n",
              "\n",
              "    .colab-df-convert:hover {\n",
              "      background-color: #E2EBFA;\n",
              "      box-shadow: 0px 1px 2px rgba(60, 64, 67, 0.3), 0px 1px 3px 1px rgba(60, 64, 67, 0.15);\n",
              "      fill: #174EA6;\n",
              "    }\n",
              "\n",
              "    [theme=dark] .colab-df-convert {\n",
              "      background-color: #3B4455;\n",
              "      fill: #D2E3FC;\n",
              "    }\n",
              "\n",
              "    [theme=dark] .colab-df-convert:hover {\n",
              "      background-color: #434B5C;\n",
              "      box-shadow: 0px 1px 3px 1px rgba(0, 0, 0, 0.15);\n",
              "      filter: drop-shadow(0px 1px 2px rgba(0, 0, 0, 0.3));\n",
              "      fill: #FFFFFF;\n",
              "    }\n",
              "  </style>\n",
              "\n",
              "      <script>\n",
              "        const buttonEl =\n",
              "          document.querySelector('#df-ed4cbba4-27d1-4322-be22-d1cf43843c53 button.colab-df-convert');\n",
              "        buttonEl.style.display =\n",
              "          google.colab.kernel.accessAllowed ? 'block' : 'none';\n",
              "\n",
              "        async function convertToInteractive(key) {\n",
              "          const element = document.querySelector('#df-ed4cbba4-27d1-4322-be22-d1cf43843c53');\n",
              "          const dataTable =\n",
              "            await google.colab.kernel.invokeFunction('convertToInteractive',\n",
              "                                                     [key], {});\n",
              "          if (!dataTable) return;\n",
              "\n",
              "          const docLinkHtml = 'Like what you see? Visit the ' +\n",
              "            '<a target=\"_blank\" href=https://colab.research.google.com/notebooks/data_table.ipynb>data table notebook</a>'\n",
              "            + ' to learn more about interactive tables.';\n",
              "          element.innerHTML = '';\n",
              "          dataTable['output_type'] = 'display_data';\n",
              "          await google.colab.output.renderOutput(dataTable, element);\n",
              "          const docLink = document.createElement('div');\n",
              "          docLink.innerHTML = docLinkHtml;\n",
              "          element.appendChild(docLink);\n",
              "        }\n",
              "      </script>\n",
              "    </div>\n",
              "  </div>\n",
              "  "
            ]
          },
          "metadata": {},
          "execution_count": 7
        }
      ]
    },
    {
      "cell_type": "code",
      "source": [
        "#Plotting the original Graph\n",
        "import matplotlib.pyplot as plt\n",
        "plt.scatter(df['A'], df['B'])"
      ],
      "metadata": {
        "colab": {
          "base_uri": "https://localhost:8080/",
          "height": 286
        },
        "id": "n_U24NQr9ewG",
        "outputId": "e9130c03-b390-4555-e97a-8e22ac0e7595"
      },
      "execution_count": null,
      "outputs": [
        {
          "output_type": "execute_result",
          "data": {
            "text/plain": [
              "<matplotlib.collections.PathCollection at 0x7fb4f0642c50>"
            ]
          },
          "metadata": {},
          "execution_count": 161
        },
        {
          "output_type": "display_data",
          "data": {
            "text/plain": [
              "<Figure size 432x288 with 1 Axes>"
            ],
            "image/png": "[encoded data removed]"
          },
          "metadata": {
            "needs_background": "light"
          }
        }
      ]
    },
    {
      "cell_type": "code",
      "source": [
        "#Initialization\n",
        "def Initialization(df,Z, k):\n",
        "  import random\n",
        "  centroid = []\n",
        "  # print(Z)\n",
        "  for i in range(k):\n",
        "    r = random.randint(0,len(df))\n",
        "    Z[r] = i+1\n",
        "    centroid.append(df.iloc[r])\n",
        "    # print(r)\n",
        "  return Z , centroid"
      ],
      "metadata": {
        "id": "YoWjm1Rs9nB7"
      },
      "execution_count": null,
      "outputs": []
    },
    {
      "cell_type": "code",
      "source": [
        "def EuclideanDist (A , B):\n",
        "  sum = 0\n",
        "  for i in range(len(A)):\n",
        "    diff = A[i] - B[i]\n",
        "    diff = diff**2\n",
        "    sum = sum + diff\n",
        "  return sum\n"
      ],
      "metadata": {
        "id": "uJo-ZCgX9tWn"
      },
      "execution_count": null,
      "outputs": []
    },
    {
      "cell_type": "code",
      "source": [
        "def CalculateMean(centroid ,Z ,k):\n",
        "    m = len(centroid[0])\n",
        "    # print(m)\n",
        "    centroid = np.zeros((k,m))\n",
        "    Times = np.zeros(k)\n",
        "    for i in range(len(df)):\n",
        "      for j in range(k):\n",
        "        if Z[i] == (j+1):\n",
        "          centroid[j] = np.add(centroid[j], df.iloc[i])\n",
        "          Times[j] = Times[j] + 1\n",
        "    for j in range(k):\n",
        "      centroid[j] = np.multiply(centroid[j] , 1 / Times[j])\n",
        "    return centroid\n"
      ],
      "metadata": {
        "id": "TuxGv_IW9vxr"
      },
      "execution_count": null,
      "outputs": []
    },
    {
      "cell_type": "code",
      "source": [
        "def Reassignment(centroid , Z , k):\n",
        "  isReassign = False\n",
        "  for i in range(len(df)):\n",
        "    if Z[i] == 0:\n",
        "      dist = float(np.Inf)\n",
        "    else:\n",
        "      dist = EuclideanDist(centroid[int(Z[i]) - 1], df.iloc[i])\n",
        "    for j in range(k):\n",
        "      ED  = EuclideanDist(centroid[j] , df.iloc[i])\n",
        "      if dist > ED:\n",
        "        isReassign = True\n",
        "        dist = ED\n",
        "        Z[i] = j+1\n",
        "  return Z ,isReassign"
      ],
      "metadata": {
        "id": "l7oBM-je9yfB"
      },
      "execution_count": null,
      "outputs": []
    },
    {
      "cell_type": "code",
      "source": [
        "def PlotGraph(k,df,Z):\n",
        "  colour = ['Red', 'Green' , 'Cyan' , 'Black' , 'Blue']\n",
        "  import matplotlib.pyplot as plt\n",
        "  # print(colour)\n",
        "  Plot =  []\n",
        "  for i in range(0,k):\n",
        "    Plot1 = []\n",
        "    for j in range(len(df)):\n",
        "      if Z[j] == i+1:\n",
        "        Plot1.append(df.iloc[j])\n",
        "    Plot1 = pd.DataFrame(Plot1)\n",
        "    # print(Plot1)\n",
        "    plt.title('Spectral Clustering')\n",
        "    plt.xlabel('Dimension 1')\n",
        "    plt.ylabel('Dimension 2')\n",
        "    plt.scatter(Plot1['A'] , Plot1['B'],color=colour[i])"
      ],
      "metadata": {
        "id": "BRoJTazH91Wa"
      },
      "execution_count": null,
      "outputs": []
    },
    {
      "cell_type": "code",
      "source": [
        "def ComputeError(Z , centroid, k):\n",
        "  sum = 0\n",
        "  for i in range(len(df)):\n",
        "    for j in range(0,k):\n",
        "      if Z[i] == j+1:\n",
        "        sum = sum + EuclideanDist(df.iloc[i], centroid[j])\n",
        "  return sum"
      ],
      "metadata": {
        "id": "DDTzYwyY959z"
      },
      "execution_count": null,
      "outputs": []
    },
    {
      "cell_type": "code",
      "source": [
        "def PlotError(ErrorSum):\n",
        "  Iter = []\n",
        "  for i in range(len(ErrorSum)):\n",
        "    Iter.append(i)\n",
        "  plt.scatter(Iter,ErrorSum)\n",
        "  plt.title('Error v/s Iteration')\n",
        "  plt.xlabel('Error')\n",
        "  plt.ylabel('No of Iterations')\n",
        "  plt.show()"
      ],
      "metadata": {
        "id": "jq3sdPWL974W"
      },
      "execution_count": null,
      "outputs": []
    },
    {
      "cell_type": "code",
      "source": [
        "def Clustering(k):\n",
        "  Z = np.zeros(len(df))\n",
        "  Z, centroid = Initialization(df,Z , k)\n",
        "  ErrorSum = []\n",
        "  centroid=CalculateMean(centroid, Z , k)\n",
        "  Z,reassign=Reassignment(centroid,Z,k)\n",
        "  ErrorSum.append(ComputeError(Z, centroid , k))\n",
        "  centroid=CalculateMean(centroid, Z , k)\n",
        "  while reassign:\n",
        "    Z , reassign = Reassignment(centroid, Z, k)\n",
        "    ErrorSum.append(ComputeError(Z, centroid , k))\n",
        "    centroid=CalculateMean(centroid, Z , k)\n",
        "  PlotError(ErrorSum)\n",
        "  PlotGraph(k,df, Z)"
      ],
      "metadata": {
        "id": "b4gfc38d9_NK"
      },
      "execution_count": null,
      "outputs": []
    },
    {
      "cell_type": "markdown",
      "source": [
        "**Spectral Clustering using Polynomial Kernel**"
      ],
      "metadata": {
        "id": "iD2obfoYRJGm"
      }
    },
    {
      "cell_type": "code",
      "source": [
        "d = 2\n",
        "kernel = PolyKernelMatrix(d)"
      ],
      "metadata": {
        "id": "tZrJTCMJ4LRd"
      },
      "execution_count": null,
      "outputs": []
    },
    {
      "cell_type": "code",
      "source": [
        "kernel_c = CenterKernel(kernel)\n",
        "H = ComputeEigens(kernel_c)\n",
        "orig_df = df.copy()\n",
        "df = pd.DataFrame(H)\n",
        "Z = np.zeros(1000)\n",
        "df = orig_df\n",
        "k = 4\n",
        "Z, centroid = Initialization(df,Z , k)\n",
        "ErrorSum = []\n",
        "centroid=CalculateMean(centroid, Z , k)\n",
        "Z,reassign=Reassignment(centroid,Z,k)\n",
        "ErrorSum.append(ComputeError(Z, centroid , k))\n",
        "centroid=CalculateMean(centroid, Z , k)\n",
        "while reassign:\n",
        "  Z , reassign = Reassignment(centroid, Z, k)\n",
        "  ErrorSum.append(ComputeError(Z, centroid , k))\n",
        "  centroid=CalculateMean(centroid, Z , k)\n",
        "PlotError(ErrorSum)\n",
        "PlotGraph(k,df, Z)\n",
        "plt.show()"
      ],
      "metadata": {
        "colab": {
          "base_uri": "https://localhost:8080/",
          "height": 573
        },
        "id": "oF-tHvREFi1g",
        "outputId": "1a39b2d7-12a9-4737-d911-717804d144f6"
      },
      "execution_count": null,
      "outputs": [
        {
          "output_type": "display_data",
          "data": {
            "text/plain": [
              "<Figure size 432x288 with 1 Axes>"
            ],
            "image/png": "[encoded data removed]"
          },
          "metadata": {
            "needs_background": "light"
          }
        },
        {
          "output_type": "display_data",
          "data": {
            "text/plain": [
              "<Figure size 432x288 with 1 Axes>"
            ],
            "image/png": "[encoded data removed]"
          },
          "metadata": {
            "needs_background": "light"
          }
        }
      ]
    },
    {
      "cell_type": "markdown",
      "source": [
        "**Spectral Clustering using Exponential Matrix sigma  = 0.1**\n"
      ],
      "metadata": {
        "id": "ll8fmgIoRVGC"
      }
    },
    {
      "cell_type": "code",
      "source": [
        "sigma = 0.1\n",
        "kernel = Exponential_Kernel(sigma)"
      ],
      "metadata": {
        "id": "a757YPltQ5xz"
      },
      "execution_count": null,
      "outputs": []
    },
    {
      "cell_type": "code",
      "source": [
        "kernel_c = CenterKernel(kernel)\n",
        "H = ComputeEigens(kernel_c)\n",
        "orig_df = df.copy()\n",
        "print(orig_df)\n",
        "df = pd.DataFrame(H)\n",
        "Z = np.zeros(1000)\n",
        "df = orig_df\n",
        "k = 4\n",
        "Z, centroid = Initialization(df,Z , k)\n",
        "ErrorSum = []\n",
        "centroid=CalculateMean(centroid, Z , k)\n",
        "Z,reassign=Reassignment(centroid,Z,k)\n",
        "ErrorSum.append(ComputeError(Z, centroid , k))\n",
        "centroid=CalculateMean(centroid, Z , k)\n",
        "while reassign:\n",
        "  Z , reassign = Reassignment(centroid, Z, k)\n",
        "  ErrorSum.append(ComputeError(Z, centroid , k))\n",
        "  centroid=CalculateMean(centroid, Z , k)\n",
        "PlotError(ErrorSum)\n",
        "# df = orig_df.copy()\n",
        "print(df)\n",
        "PlotGraph(k,df, Z)\n",
        "plt.show()"
      ],
      "metadata": {
        "colab": {
          "base_uri": "https://localhost:8080/",
          "height": 1000
        },
        "id": "ej4lcbluRx5Y",
        "outputId": "c0729c2a-b6f9-4fc7-d244-046de838ac9f"
      },
      "execution_count": null,
      "outputs": [
        {
          "output_type": "stream",
          "name": "stdout",
          "text": [
            "           A        B\n",
            "0    0.14300  0.98493\n",
            "1   -0.30467  0.98562\n",
            "2    0.46625 -0.84003\n",
            "3    0.94847  0.37222\n",
            "4   -0.96871 -0.26697\n",
            "..       ...      ...\n",
            "995  4.48210 -7.40030\n",
            "996 -3.49630  8.63860\n",
            "997  6.10620 -5.98640\n",
            "998 -7.40940 -5.52050\n",
            "999 -0.12948 -8.80360\n",
            "\n",
            "[1000 rows x 2 columns]\n"
          ]
        },
        {
          "output_type": "display_data",
          "data": {
            "text/plain": [
              "<Figure size 432x288 with 1 Axes>"
            ],
            "image/png": "[encoded data removed]"
          },
          "metadata": {
            "needs_background": "light"
          }
        },
        {
          "output_type": "stream",
          "name": "stdout",
          "text": [
            "           A        B\n",
            "0    0.14300  0.98493\n",
            "1   -0.30467  0.98562\n",
            "2    0.46625 -0.84003\n",
            "3    0.94847  0.37222\n",
            "4   -0.96871 -0.26697\n",
            "..       ...      ...\n",
            "995  4.48210 -7.40030\n",
            "996 -3.49630  8.63860\n",
            "997  6.10620 -5.98640\n",
            "998 -7.40940 -5.52050\n",
            "999 -0.12948 -8.80360\n",
            "\n",
            "[1000 rows x 2 columns]\n"
          ]
        },
        {
          "output_type": "display_data",
          "data": {
            "text/plain": [
              "<Figure size 432x288 with 1 Axes>"
            ],
            "image/png": "[encoded data removed]"
          },
          "metadata": {
            "needs_background": "light"
          }
        }
      ]
    }
  ]
}