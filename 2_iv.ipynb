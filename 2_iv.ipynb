{
  "nbformat": 4,
  "nbformat_minor": 0,
  "metadata": {
    "colab": {
      "provenance": []
    },
    "kernelspec": {
      "name": "python3",
      "display_name": "Python 3"
    },
    "language_info": {
      "name": "python"
    }
  },
  "cells": [
    {
      "cell_type": "code",
      "execution_count": null,
      "metadata": {
        "id": "GxKc7TLhSum0"
      },
      "outputs": [],
      "source": [
        "def PolyKernelMatrix(d):\n",
        "  kernel_mat = []\n",
        "  for i in range(len(df)):\n",
        "    ker = []\n",
        "    for j in range(len(df)):\n",
        "      val=0\n",
        "      for k  in range(df.shape[1]):\n",
        "        val = val+df.iloc[i][k] * df.iloc[j][k]\n",
        "        # print(df.iloc[i][k] * df.iloc[j][k]  + 1)\n",
        "      val=val+1\n",
        "      val=val**d\n",
        "      ker.append(val)\n",
        "        # print(x[i][k] , xt[k][j])\n",
        "      # print('mul ', mul)\n",
        "    kernel_mat.append(ker)\n",
        "  kernel = pd.DataFrame(kernel_mat)\n",
        "  return kernel"
      ]
    },
    {
      "cell_type": "code",
      "source": [
        "def Exponential_Kernel(sigma):\n",
        "  kernel_ex = []\n",
        "  for i in range(len(df)):\n",
        "    ex1 = []\n",
        "    for j in range(len(df)):\n",
        "      a, b = df.iloc[i], df.iloc[j]\n",
        "      X = np.subtract(a,b)\n",
        "      X_T = np.transpose(X)\n",
        "      num = np.dot(X,X_T)\n",
        "      den = 2 * sigma * sigma\n",
        "      ex1.append(num/den)\n",
        "    kernel_ex.append(ex1)\n",
        "  kernel_ex = np.array(kernel_ex)\n",
        "  kernel_ex = np.negative(kernel_ex)\n",
        "  kernel_ex = np.exp(kernel_ex)\n",
        "  return kernel_ex"
      ],
      "metadata": {
        "id": "aS6MGJuV_wLa"
      },
      "execution_count": null,
      "outputs": []
    },
    {
      "cell_type": "code",
      "source": [
        "import pandas as pd\n",
        "import numpy as np\n",
        "\n",
        "#Connecting to the Google Drive.\n",
        "from google.colab import drive\n",
        "drive.mount('/content/drive')\n",
        "\n",
        "#Reading the data.\n",
        "url = '/content/drive/MyDrive/Colab Notebooks/Dataset.csv'\n",
        "df=pd.read_csv(url)\n",
        "# df._get_value(0 , 'A')\n",
        "\n",
        "df"
      ],
      "metadata": {
        "colab": {
          "base_uri": "https://localhost:8080/",
          "height": 441
        },
        "id": "h7qWfliBsLOq",
        "outputId": "6017e1a5-1f2e-4db0-c81f-035b3b93a73c"
      },
      "execution_count": null,
      "outputs": [
        {
          "output_type": "stream",
          "name": "stdout",
          "text": [
            "Mounted at /content/drive\n"
          ]
        },
        {
          "output_type": "execute_result",
          "data": {
            "text/plain": [
              "           A        B\n",
              "0    0.14300  0.98493\n",
              "1   -0.30467  0.98562\n",
              "2    0.46625 -0.84003\n",
              "3    0.94847  0.37222\n",
              "4   -0.96871 -0.26697\n",
              "..       ...      ...\n",
              "995  4.48210 -7.40030\n",
              "996 -3.49630  8.63860\n",
              "997  6.10620 -5.98640\n",
              "998 -7.40940 -5.52050\n",
              "999 -0.12948 -8.80360\n",
              "\n",
              "[1000 rows x 2 columns]"
            ],
            "text/html": [
              "\n",
              "  <div id=\"df-e44f3b95-7819-45af-ba15-bfdcd69bb113\">\n",
              "    <div class=\"colab-df-container\">\n",
              "      <div>\n",
              "<style scoped>\n",
              "    .dataframe tbody tr th:only-of-type {\n",
              "        vertical-align: middle;\n",
              "    }\n",
              "\n",
              "    .dataframe tbody tr th {\n",
              "        vertical-align: top;\n",
              "    }\n",
              "\n",
              "    .dataframe thead th {\n",
              "        text-align: right;\n",
              "    }\n",
              "</style>\n",
              "<table border=\"1\" class=\"dataframe\">\n",
              "  <thead>\n",
              "    <tr style=\"text-align: right;\">\n",
              "      <th></th>\n",
              "      <th>A</th>\n",
              "      <th>B</th>\n",
              "    </tr>\n",
              "  </thead>\n",
              "  <tbody>\n",
              "    <tr>\n",
              "      <th>0</th>\n",
              "      <td>0.14300</td>\n",
              "      <td>0.98493</td>\n",
              "    </tr>\n",
              "    <tr>\n",
              "      <th>1</th>\n",
              "      <td>-0.30467</td>\n",
              "      <td>0.98562</td>\n",
              "    </tr>\n",
              "    <tr>\n",
              "      <th>2</th>\n",
              "      <td>0.46625</td>\n",
              "      <td>-0.84003</td>\n",
              "    </tr>\n",
              "    <tr>\n",
              "      <th>3</th>\n",
              "      <td>0.94847</td>\n",
              "      <td>0.37222</td>\n",
              "    </tr>\n",
              "    <tr>\n",
              "      <th>4</th>\n",
              "      <td>-0.96871</td>\n",
              "      <td>-0.26697</td>\n",
              "    </tr>\n",
              "    <tr>\n",
              "      <th>...</th>\n",
              "      <td>...</td>\n",
              "      <td>...</td>\n",
              "    </tr>\n",
              "    <tr>\n",
              "      <th>995</th>\n",
              "      <td>4.48210</td>\n",
              "      <td>-7.40030</td>\n",
              "    </tr>\n",
              "    <tr>\n",
              "      <th>996</th>\n",
              "      <td>-3.49630</td>\n",
              "      <td>8.63860</td>\n",
              "    </tr>\n",
              "    <tr>\n",
              "      <th>997</th>\n",
              "      <td>6.10620</td>\n",
              "      <td>-5.98640</td>\n",
              "    </tr>\n",
              "    <tr>\n",
              "      <th>998</th>\n",
              "      <td>-7.40940</td>\n",
              "      <td>-5.52050</td>\n",
              "    </tr>\n",
              "    <tr>\n",
              "      <th>999</th>\n",
              "      <td>-0.12948</td>\n",
              "      <td>-8.80360</td>\n",
              "    </tr>\n",
              "  </tbody>\n",
              "</table>\n",
              "<p>1000 rows × 2 columns</p>\n",
              "</div>\n",
              "      <button class=\"colab-df-convert\" onclick=\"convertToInteractive('df-e44f3b95-7819-45af-ba15-bfdcd69bb113')\"\n",
              "              title=\"Convert this dataframe to an interactive table.\"\n",
              "              style=\"display:none;\">\n",
              "        \n",
              "  <svg xmlns=\"http://www.w3.org/2000/svg\" height=\"24px\"viewBox=\"0 0 24 24\"\n",
              "       width=\"24px\">\n",
              "    <path d=\"M0 0h24v24H0V0z\" fill=\"none\"/>\n",
              "    <path d=\"M18.56 5.44l.94 2.06.94-2.06 2.06-.94-2.06-.94-.94-2.06-.94 2.06-2.06.94zm-11 1L8.5 8.5l.94-2.06 2.06-.94-2.06-.94L8.5 2.5l-.94 2.06-2.06.94zm10 10l.94 2.06.94-2.06 2.06-.94-2.06-.94-.94-2.06-.94 2.06-2.06.94z\"/><path d=\"M17.41 7.96l-1.37-1.37c-.4-.4-.92-.59-1.43-.59-.52 0-1.04.2-1.43.59L10.3 9.45l-7.72 7.72c-.78.78-.78 2.05 0 2.83L4 21.41c.39.39.9.59 1.41.59.51 0 1.02-.2 1.41-.59l7.78-7.78 2.81-2.81c.8-.78.8-2.07 0-2.86zM5.41 20L4 18.59l7.72-7.72 1.47 1.35L5.41 20z\"/>\n",
              "  </svg>\n",
              "      </button>\n",
              "      \n",
              "  <style>\n",
              "    .colab-df-container {\n",
              "      display:flex;\n",
              "      flex-wrap:wrap;\n",
              "      gap: 12px;\n",
              "    }\n",
              "\n",
              "    .colab-df-convert {\n",
              "      background-color: #E8F0FE;\n",
              "      border: none;\n",
              "      border-radius: 50%;\n",
              "      cursor: pointer;\n",
              "      display: none;\n",
              "      fill: #1967D2;\n",
              "      height: 32px;\n",
              "      padding: 0 0 0 0;\n",
              "      width: 32px;\n",
              "    }\n",
              "\n",
              "    .colab-df-convert:hover {\n",
              "      background-color: #E2EBFA;\n",
              "      box-shadow: 0px 1px 2px rgba(60, 64, 67, 0.3), 0px 1px 3px 1px rgba(60, 64, 67, 0.15);\n",
              "      fill: #174EA6;\n",
              "    }\n",
              "\n",
              "    [theme=dark] .colab-df-convert {\n",
              "      background-color: #3B4455;\n",
              "      fill: #D2E3FC;\n",
              "    }\n",
              "\n",
              "    [theme=dark] .colab-df-convert:hover {\n",
              "      background-color: #434B5C;\n",
              "      box-shadow: 0px 1px 3px 1px rgba(0, 0, 0, 0.15);\n",
              "      filter: drop-shadow(0px 1px 2px rgba(0, 0, 0, 0.3));\n",
              "      fill: #FFFFFF;\n",
              "    }\n",
              "  </style>\n",
              "\n",
              "      <script>\n",
              "        const buttonEl =\n",
              "          document.querySelector('#df-e44f3b95-7819-45af-ba15-bfdcd69bb113 button.colab-df-convert');\n",
              "        buttonEl.style.display =\n",
              "          google.colab.kernel.accessAllowed ? 'block' : 'none';\n",
              "\n",
              "        async function convertToInteractive(key) {\n",
              "          const element = document.querySelector('#df-e44f3b95-7819-45af-ba15-bfdcd69bb113');\n",
              "          const dataTable =\n",
              "            await google.colab.kernel.invokeFunction('convertToInteractive',\n",
              "                                                     [key], {});\n",
              "          if (!dataTable) return;\n",
              "\n",
              "          const docLinkHtml = 'Like what you see? Visit the ' +\n",
              "            '<a target=\"_blank\" href=https://colab.research.google.com/notebooks/data_table.ipynb>data table notebook</a>'\n",
              "            + ' to learn more about interactive tables.';\n",
              "          element.innerHTML = '';\n",
              "          dataTable['output_type'] = 'display_data';\n",
              "          await google.colab.output.renderOutput(dataTable, element);\n",
              "          const docLink = document.createElement('div');\n",
              "          docLink.innerHTML = docLinkHtml;\n",
              "          element.appendChild(docLink);\n",
              "        }\n",
              "      </script>\n",
              "    </div>\n",
              "  </div>\n",
              "  "
            ]
          },
          "metadata": {},
          "execution_count": 5
        }
      ]
    },
    {
      "cell_type": "code",
      "source": [
        "#Plotting the original Graph\n",
        "import matplotlib.pyplot as plt\n",
        "plt.scatter(df['A'], df['B'])"
      ],
      "metadata": {
        "colab": {
          "base_uri": "https://localhost:8080/",
          "height": 286
        },
        "id": "QyMwdtjKsmIJ",
        "outputId": "ab27ac63-5b90-4738-8cb9-ca9d1e0e5b6a"
      },
      "execution_count": null,
      "outputs": [
        {
          "output_type": "execute_result",
          "data": {
            "text/plain": [
              "<matplotlib.collections.PathCollection at 0x7fb1e9572190>"
            ]
          },
          "metadata": {},
          "execution_count": 6
        },
        {
          "output_type": "display_data",
          "data": {
            "text/plain": [
              "<Figure size 432x288 with 1 Axes>"
            ],
            "image/png": "[encoded data removed]"
          },
          "metadata": {
            "needs_background": "light"
          }
        }
      ]
    },
    {
      "cell_type": "code",
      "source": [
        "#Initialization\n",
        "def Initialization(df,Z, k):\n",
        "  import random\n",
        "  centroid = []\n",
        "  # print(Z)\n",
        "  for i in range(k):\n",
        "    r = random.randint(0,len(df))\n",
        "    Z[r] = i+1\n",
        "    centroid.append(df.iloc[r])\n",
        "    # print(r)\n",
        "  return Z , centroid"
      ],
      "metadata": {
        "id": "5n6kpy4Osr86"
      },
      "execution_count": null,
      "outputs": []
    },
    {
      "cell_type": "code",
      "source": [
        "def EuclideanDist (A , B):\n",
        "  sum = 0\n",
        "  for i in range(len(A)):\n",
        "    diff = A[i] - B[i]\n",
        "    diff = diff**2\n",
        "    sum = sum + diff\n",
        "  return sum\n"
      ],
      "metadata": {
        "id": "5fLz11r0tP83"
      },
      "execution_count": null,
      "outputs": []
    },
    {
      "cell_type": "code",
      "source": [
        "def CalculateMean(centroid ,Z ,k):\n",
        "    m = len(centroid[0])\n",
        "    # print(m)\n",
        "    centroid = np.zeros((k,m))\n",
        "    Times = np.zeros(k)\n",
        "    for i in range(len(df)):\n",
        "      for j in range(k):\n",
        "        if Z[i] == (j+1):\n",
        "          centroid[j] = np.add(centroid[j], df.iloc[i])\n",
        "          Times[j] = Times[j] + 1\n",
        "    for j in range(k):\n",
        "      centroid[j] = np.multiply(centroid[j] , 1 / Times[j])\n",
        "    return centroid\n"
      ],
      "metadata": {
        "id": "7raBjPdCtR3Y"
      },
      "execution_count": null,
      "outputs": []
    },
    {
      "cell_type": "code",
      "source": [
        "def Reassignment(centroid , Z , k):\n",
        "  isReassign = False\n",
        "  for i in range(len(df)):\n",
        "    if Z[i] == 0:\n",
        "      dist = float(np.Inf)\n",
        "    else:\n",
        "      dist = EuclideanDist(centroid[int(Z[i]) - 1], df.iloc[i])\n",
        "    for j in range(k):\n",
        "      ED  = EuclideanDist(centroid[j] , df.iloc[i])\n",
        "      if dist > ED:\n",
        "        isReassign = True\n",
        "        dist = ED\n",
        "        Z[i] = j+1\n",
        "  return Z ,isReassign"
      ],
      "metadata": {
        "id": "WAqiFA3atUKX"
      },
      "execution_count": null,
      "outputs": []
    },
    {
      "cell_type": "code",
      "source": [
        "def PlotGraph(k,df,Z):\n",
        "  colour = ['Red', 'Green' , 'Cyan' , 'Black' , 'Blue']\n",
        "  import matplotlib.pyplot as plt\n",
        "  Plot =  []\n",
        "  for i in range(0,k):\n",
        "    Plot1 = []\n",
        "    for j in range(len(df)):\n",
        "      if Z[j] == i:\n",
        "        Plot1.append(df.iloc[j])\n",
        "    Plot1 = pd.DataFrame(Plot1)\n",
        "    plt.title('Clustering')\n",
        "    plt.xlabel('Dimension 1')\n",
        "    plt.ylabel('Dimension 2')\n",
        "    plt.scatter(Plot1['A'] , Plot1['B'],color=colour[i])"
      ],
      "metadata": {
        "id": "a712vmwltWtr"
      },
      "execution_count": null,
      "outputs": []
    },
    {
      "cell_type": "code",
      "source": [
        "# def ComputeEigens(kernel_ex,k):\n",
        "#   eigenvalues, eigenvectors = np.linalg.eig(kernel_ex)\n",
        "#   idx = eigenvalues.argsort()[::-1]\n",
        "#   eigenvalues = eigenvalues[idx]\n",
        "#   # print(eigenvalues)\n",
        "#   eigenvectors = eigenvectors[:,idx]\n",
        "#   return eigenvectors[:k]"
      ],
      "metadata": {
        "id": "Pbyr3P3Kxn2W"
      },
      "execution_count": null,
      "outputs": []
    },
    {
      "cell_type": "code",
      "source": [
        "#Sorting the Eigen vectors in decresing order of the corresponding Eigen Valules.\n",
        "def ComputeEigens(kernel_ex, k):\n",
        "  eigenvalues, eigenvectors = np.linalg.eig(kernel_ex)\n",
        "  idx = eigenvalues.argsort()[::-1]\n",
        "  eigenvalues = eigenvalues[idx]\n",
        "  eigenvectors = eigenvectors[:,idx]\n",
        "  eigenvector = eigenvectors[:,0:k]\n",
        "  return eigenvector"
      ],
      "metadata": {
        "id": "-91OOSet1agM"
      },
      "execution_count": null,
      "outputs": []
    },
    {
      "cell_type": "code",
      "source": [
        "def ComputeMax(kernel, k):\n",
        "  norm = []\n",
        "  Z = []\n",
        "  for i in range(len(df)):\n",
        "    nrm = []\n",
        "    for j in range(k):\n",
        "      nrm.append(kernel[i][j])\n",
        "    x = np.argmax(nrm)\n",
        "    Z.append(x)\n",
        "  return Z"
      ],
      "metadata": {
        "id": "k2jh6rUAyT7_"
      },
      "execution_count": null,
      "outputs": []
    },
    {
      "cell_type": "markdown",
      "source": [
        "**Checking for Polynomial Kernel**"
      ],
      "metadata": {
        "id": "Atihybz3_W4q"
      }
    },
    {
      "cell_type": "code",
      "source": [
        "k = 4\n",
        "d = 2\n",
        "kernel = PolyKernelMatrix(d)"
      ],
      "metadata": {
        "id": "z0Y3sgxl0k0b"
      },
      "execution_count": null,
      "outputs": []
    },
    {
      "cell_type": "code",
      "source": [
        "eig_v = ComputeEigens(kernel, k)\n",
        "Z = ComputeMax(eig_v, k)\n",
        "PlotGraph(k, df, Z)"
      ],
      "metadata": {
        "colab": {
          "base_uri": "https://localhost:8080/",
          "height": 295
        },
        "id": "6r1BQ4VN3R7w",
        "outputId": "12578dce-f78b-49f2-aa7f-4201e07a727f"
      },
      "execution_count": null,
      "outputs": [
        {
          "output_type": "display_data",
          "data": {
            "text/plain": [
              "<Figure size 432x288 with 1 Axes>"
            ],
            "image/png": "[encoded data removed]"
          },
          "metadata": {
            "needs_background": "light"
          }
        }
      ]
    },
    {
      "cell_type": "markdown",
      "source": [
        "**Checking for Exponential Kernel**"
      ],
      "metadata": {
        "id": "x9rC2QcN_0nQ"
      }
    },
    {
      "cell_type": "code",
      "source": [
        "k = 4\n",
        "sigma = 0.9\n",
        "kernel = Exponential_Kernel(sigma)"
      ],
      "metadata": {
        "id": "x1gCHklF7o2U"
      },
      "execution_count": null,
      "outputs": []
    },
    {
      "cell_type": "code",
      "source": [
        "eig_v = ComputeEigens(kernel, k)\n",
        "Z = ComputeMax(eig_v, k)\n",
        "PlotGraph(k, df, Z)"
      ],
      "metadata": {
        "id": "bjAvXR5wAErt",
        "colab": {
          "base_uri": "https://localhost:8080/",
          "height": 295
        },
        "outputId": "b0523984-d41b-41b2-f28b-6f5d86e8cd90"
      },
      "execution_count": null,
      "outputs": [
        {
          "output_type": "display_data",
          "data": {
            "text/plain": [
              "<Figure size 432x288 with 1 Axes>"
            ],
            "image/png": "[encoded data removed]"
          },
          "metadata": {
            "needs_background": "light"
          }
        }
      ]
    }
  ]
}